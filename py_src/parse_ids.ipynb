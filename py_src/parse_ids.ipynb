{
 "cells": [
  {
   "cell_type": "code",
   "execution_count": null,
   "id": "b15b9499",
   "metadata": {},
   "outputs": [],
   "source": [
    "%load_ext autoreload\n",
    "\n",
    "import re\n",
    "import os\n",
    "import json\n",
    "import time\n",
    "import sqlite3\n",
    "import datetime\n",
    "import operator\n",
    "import requests\n",
    "\n",
    "import openreview\n",
    "\n",
    "import numpy as np\n",
    "from tqdm.notebook import tqdm, trange\n",
    "\n",
    "from selenium import webdriver\n",
    "from selenium.webdriver.chrome.service import Service\n",
    "from selenium.webdriver.chrome.options import Options\n",
    "from selenium.webdriver.common.by import By\n",
    "from selenium.common.exceptions import TimeoutException\n",
    "from selenium.webdriver.support.ui import WebDriverWait\n",
    "from selenium.webdriver.support import expected_conditions as EC"
   ]
  },
  {
   "cell_type": "code",
   "execution_count": null,
   "id": "f6e44d6d",
   "metadata": {},
   "outputs": [],
   "source": [
    "# ids from api\n",
    "client = openreview.Client(baseurl='https://api.openreview.net')\n",
    "notes = openreview.tools.iterget_notes(client, invitation='ICLR.cc/2024/Conference/-/Blind_Submission')\n",
    "\n",
    "ids = []\n",
    "for note in notes:\n",
    "    ids.append(note.id)"
   ]
  },
  {
   "cell_type": "code",
   "execution_count": null,
   "id": "d6d9f68e-4080-46a0-8738-2b064740c85d",
   "metadata": {},
   "outputs": [],
   "source": [
    "driver.quit()"
   ]
  },
  {
   "cell_type": "code",
   "execution_count": null,
   "id": "5f426b43",
   "metadata": {},
   "outputs": [],
   "source": [
    "s = Service('/opt/homebrew/bin/chromedriver')\n",
    "op = Options()\n",
    "op.add_argument('headless')\n",
    "driver = webdriver.Chrome()\n",
    "driver.get(f'https://openreview.net/group?id=ICLR.cc/2024/Conference')\n",
    "time.sleep(3)\n",
    "panel = driver.find_elements(By.CLASS_NAME, f'submissions-list')[1]"
   ]
  },
  {
   "cell_type": "code",
   "execution_count": null,
   "id": "0bc8e418-4c8b-4cde-9276-ea9828bfb2a1",
   "metadata": {},
   "outputs": [],
   "source": [
    "id_list = []\n",
    "\n",
    "# loop all pages\n",
    "i = 0\n",
    "while True:\n",
    "    print(f\"processing: {i}...{len(id_list)}\")\n",
    "    time.sleep(1.5)\n",
    "    \n",
    "    # --> get id list\n",
    "    item_list = panel.find_elements(By.CSS_SELECTOR, \".note.undefined\")\n",
    "    for item in item_list:\n",
    "        ele = item.find_element(By.TAG_NAME, 'a').get_attribute('href')\n",
    "        id = ele.split(\"id=\")[-1]\n",
    "        id_list.append(id)\n",
    "        \n",
    "    # get right arrow\n",
    "    right_arrow = panel.find_elements(By.CLASS_NAME, 'right-arrow')[0]\n",
    "    \n",
    "    # click to jump to next page\n",
    "    ra_cls = right_arrow.get_attribute(\"class\")\n",
    "    if 'disable' in ra_cls:\n",
    "        break\n",
    "    right_arrow.find_element(By.TAG_NAME, 'a').click()\n",
    "    i += 1"
   ]
  },
  {
   "cell_type": "code",
   "execution_count": null,
   "id": "5afea2b1-91dc-4c4f-86b3-38d1b70abffa",
   "metadata": {},
   "outputs": [],
   "source": [
    "with open('../assets/id_list.txt', 'w') as f:\n",
    "    for x in id_list:\n",
    "        f.write(x + '\\n')"
   ]
  }
 ],
 "metadata": {
  "kernelspec": {
   "display_name": "Python 3",
   "language": "python",
   "name": "python3"
  },
  "language_info": {
   "codemirror_mode": {
    "name": "ipython",
    "version": 3
   },
   "file_extension": ".py",
   "mimetype": "text/x-python",
   "name": "python",
   "nbconvert_exporter": "python",
   "pygments_lexer": "ipython3",
   "version": "3.9.16"
  }
 },
 "nbformat": 4,
 "nbformat_minor": 5
}
